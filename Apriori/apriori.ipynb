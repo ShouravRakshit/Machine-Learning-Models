{
 "cells": [
  {
   "cell_type": "code",
   "execution_count": 1,
   "id": "44e7adfa",
   "metadata": {},
   "outputs": [
    {
     "name": "stdout",
     "output_type": "stream",
     "text": [
      "Requirement already satisfied: apyori in c:\\python\\python311\\lib\\site-packages (1.1.2)\n",
      "Note: you may need to restart the kernel to use updated packages.\n"
     ]
    },
    {
     "name": "stderr",
     "output_type": "stream",
     "text": [
      "DEPRECATION: Loading egg at c:\\python\\python311\\lib\\site-packages\\vboxapi-1.0-py3.11.egg is deprecated. pip 24.3 will enforce this behaviour change. A possible replacement is to use pip for package installation. Discussion can be found at https://github.com/pypa/pip/issues/12330\n"
     ]
    }
   ],
   "source": [
    "%pip install apyori"
   ]
  },
  {
   "cell_type": "code",
   "execution_count": 2,
   "metadata": {},
   "outputs": [],
   "source": [
    "import pandas as pd\n",
    "import numpy as np\n",
    "import matplotlib.pyplot as plt\n"
   ]
  },
  {
   "cell_type": "markdown",
   "id": "751a9a48",
   "metadata": {},
   "source": [
    "# Import the dataset"
   ]
  },
  {
   "cell_type": "code",
   "execution_count": 3,
   "id": "4f6ab7b9",
   "metadata": {},
   "outputs": [],
   "source": [
    "dataset = pd.read_csv('Market_Basket_Optimisation.csv', header = None)\n",
    "transactions = []\n",
    "for i in range(0, 7501):\n",
    "    transactions.append([str(dataset.values[i,j]) for j in range(0, 20)])\n"
   ]
  },
  {
   "cell_type": "markdown",
   "id": "5ba6d42b",
   "metadata": {},
   "source": [
    "# Training the Apriori model"
   ]
  },
  {
   "cell_type": "code",
   "execution_count": 4,
   "id": "12647ed8",
   "metadata": {},
   "outputs": [
    {
     "name": "stdout",
     "output_type": "stream",
     "text": [
      "[\"RULE:\\tfrozenset({'light cream', 'chicken'})\\nSUPPORT:\\t0.004532728969470737\\n\", \"ITEMS:\\tfrozenset({'light cream'})\\nSUPPORT:\\tfrozenset({'chicken'})\\nCONFIDENCE:\\t0.29059829059829057\\nLIFT:\\t4.84395061728395\\n\", '-------------------------------------------------------------------------------------------------------------------\\n', \"RULE:\\tfrozenset({'mushroom cream sauce', 'escalope'})\\nSUPPORT:\\t0.005732568990801226\\n\", \"ITEMS:\\tfrozenset({'mushroom cream sauce'})\\nSUPPORT:\\tfrozenset({'escalope'})\\nCONFIDENCE:\\t0.3006993006993007\\nLIFT:\\t3.790832696715049\\n\", '-------------------------------------------------------------------------------------------------------------------\\n', \"RULE:\\tfrozenset({'pasta', 'escalope'})\\nSUPPORT:\\t0.005865884548726837\\n\", \"ITEMS:\\tfrozenset({'pasta'})\\nSUPPORT:\\tfrozenset({'escalope'})\\nCONFIDENCE:\\t0.3728813559322034\\nLIFT:\\t4.700811850163794\\n\", '-------------------------------------------------------------------------------------------------------------------\\n', \"RULE:\\tfrozenset({'honey', 'fromage blanc'})\\nSUPPORT:\\t0.003332888948140248\\n\", \"ITEMS:\\tfrozenset({'fromage blanc'})\\nSUPPORT:\\tfrozenset({'honey'})\\nCONFIDENCE:\\t0.2450980392156863\\nLIFT:\\t5.164270764485569\\n\", '-------------------------------------------------------------------------------------------------------------------\\n', \"RULE:\\tfrozenset({'herb & pepper', 'ground beef'})\\nSUPPORT:\\t0.015997866951073192\\n\", \"ITEMS:\\tfrozenset({'herb & pepper'})\\nSUPPORT:\\tfrozenset({'ground beef'})\\nCONFIDENCE:\\t0.3234501347708895\\nLIFT:\\t3.2919938411349285\\n\", '-------------------------------------------------------------------------------------------------------------------\\n', \"RULE:\\tfrozenset({'ground beef', 'tomato sauce'})\\nSUPPORT:\\t0.005332622317024397\\n\", \"ITEMS:\\tfrozenset({'tomato sauce'})\\nSUPPORT:\\tfrozenset({'ground beef'})\\nCONFIDENCE:\\t0.3773584905660377\\nLIFT:\\t3.840659481324083\\n\", '-------------------------------------------------------------------------------------------------------------------\\n', \"RULE:\\tfrozenset({'light cream', 'olive oil'})\\nSUPPORT:\\t0.003199573390214638\\n\", \"ITEMS:\\tfrozenset({'light cream'})\\nSUPPORT:\\tfrozenset({'olive oil'})\\nCONFIDENCE:\\t0.20512820512820515\\nLIFT:\\t3.1147098515519573\\n\", '-------------------------------------------------------------------------------------------------------------------\\n', \"RULE:\\tfrozenset({'whole wheat pasta', 'olive oil'})\\nSUPPORT:\\t0.007998933475536596\\n\", \"ITEMS:\\tfrozenset({'whole wheat pasta'})\\nSUPPORT:\\tfrozenset({'olive oil'})\\nCONFIDENCE:\\t0.2714932126696833\\nLIFT:\\t4.122410097642296\\n\", '-------------------------------------------------------------------------------------------------------------------\\n', \"RULE:\\tfrozenset({'pasta', 'shrimp'})\\nSUPPORT:\\t0.005065991201173177\\n\", \"ITEMS:\\tfrozenset({'pasta'})\\nSUPPORT:\\tfrozenset({'shrimp'})\\nCONFIDENCE:\\t0.3220338983050847\\nLIFT:\\t4.506672147735896\\n\", '-------------------------------------------------------------------------------------------------------------------\\n']\n"
     ]
    }
   ],
   "source": [
    "from apyori import apriori\n",
    "rules = apriori(transactions, min_support = 0.003, min_confidence = 0.2, min_lift = 3, min_length = 2, max_length = 2)\n",
    "results = list(rules)\n",
    "results_list = []\n",
    "for i in range(0, len(results)):\n",
    "    results_list.append('RULE:\\t' + str(results[i][0]) + '\\nSUPPORT:\\t' + str(results[i][1]) + '\\n')\n",
    "    for j in range(0, len(results[i][2])):\n",
    "        results_list.append('ITEMS:\\t' + str(results[i][2][j][0]) + '\\nSUPPORT:\\t' + str(results[i][2][j][1]) + '\\nCONFIDENCE:\\t' + str(results[i][2][j][2]) + '\\nLIFT:\\t' + str(results[i][2][j][3]) + '\\n')\n",
    "        results_list.append('-------------------------------------------------------------------------------------------------------------------\\n')\n",
    "print(results_list)"
   ]
  }
 ],
 "metadata": {
  "kernelspec": {
   "display_name": "Python 3",
   "language": "python",
   "name": "python3"
  },
  "language_info": {
   "codemirror_mode": {
    "name": "ipython",
    "version": 3
   },
   "file_extension": ".py",
   "mimetype": "text/x-python",
   "name": "python",
   "nbconvert_exporter": "python",
   "pygments_lexer": "ipython3",
   "version": "3.11.3"
  }
 },
 "nbformat": 4,
 "nbformat_minor": 5
}
